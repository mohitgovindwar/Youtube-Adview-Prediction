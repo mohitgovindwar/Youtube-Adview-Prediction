{
  "nbformat": 4,
  "nbformat_minor": 0,
  "metadata": {
    "colab": {
      "name": "Youtube_Adview.ipynb",
      "provenance": []
    },
    "kernelspec": {
      "name": "python3",
      "display_name": "Python 3"
    },
    "language_info": {
      "name": "python"
    },
    "accelerator": "GPU"
  },
  "cells": [
    {
      "cell_type": "markdown",
      "metadata": {
        "id": "UfoqWF-CsFza"
      },
      "source": [
        "#Training"
      ]
    },
    {
      "cell_type": "code",
      "metadata": {
        "id": "0t7b_IKsIWuJ"
      },
      "source": [
        "import numpy as np\n",
        "import pandas as pd\n",
        "import matplotlib.cm as cm\n",
        "import matplotlib.pyplot as plt"
      ],
      "execution_count": null,
      "outputs": []
    },
    {
      "cell_type": "code",
      "metadata": {
        "id": "26MOAJOF2EfU"
      },
      "source": [
        "data_train = pd.read_csv(\"train.csv\")\n",
        "data_train.head()"
      ],
      "execution_count": null,
      "outputs": []
    },
    {
      "cell_type": "code",
      "metadata": {
        "id": "8ZIPAXgn2jrX"
      },
      "source": [
        "data_train.shape"
      ],
      "execution_count": null,
      "outputs": []
    },
    {
      "cell_type": "markdown",
      "metadata": {
        "id": "MxFZ24gu5E35"
      },
      "source": [
        "Assigning each category a number for Category feature."
      ]
    },
    {
      "cell_type": "code",
      "metadata": {
        "id": "WyIby1U14LSh"
      },
      "source": [
        "category = {'A': 1,'B': 2,'C': 3,'D': 4,'E': 5,'F': 6,'G': 7,'H': 8}\n",
        "data_train[\"category\"] = data_train[\"category\"].map(category)\n",
        "data_train.head()"
      ],
      "execution_count": null,
      "outputs": []
    },
    {
      "cell_type": "markdown",
      "metadata": {
        "id": "hknoxfMW7Wbv"
      },
      "source": [
        "Removing Character 'F' present in data."
      ]
    },
    {
      "cell_type": "code",
      "metadata": {
        "id": "wwp8TdyS7d-a"
      },
      "source": [
        "data_train = data_train[data_train.views!='F']\n",
        "data_train = data_train[data_train.likes!='F']\n",
        "data_train = data_train[data_train.dislikes!='F']\n",
        "data_train = data_train[data_train.comment!='F']\n",
        "data_train.head()"
      ],
      "execution_count": null,
      "outputs": []
    },
    {
      "cell_type": "markdown",
      "metadata": {
        "id": "4KiZnpVP_DhY"
      },
      "source": [
        "Convert values to integers for views, likes, comments, dislikes and adview."
      ]
    },
    {
      "cell_type": "code",
      "metadata": {
        "id": "T1cGBB4J_Z1H"
      },
      "source": [
        "data_train[\"views\"] = pd.to_numeric(data_train[\"views\"])\n",
        "data_train[\"likes\"] = pd.to_numeric(data_train[\"likes\"])\n",
        "data_train[\"dislikes\"] = pd.to_numeric(data_train[\"dislikes\"])\n",
        "data_train[\"comment\"] = pd.to_numeric(data_train[\"comment\"])\n",
        "data_train[\"adview\"] = pd.to_numeric(data_train[\"adview\"])\n",
        "data_train.head()"
      ],
      "execution_count": null,
      "outputs": []
    },
    {
      "cell_type": "code",
      "metadata": {
        "id": "Dgxq9r2BAzDn"
      },
      "source": [
        "column_vidid = data_train[\"vidid\"]"
      ],
      "execution_count": null,
      "outputs": []
    },
    {
      "cell_type": "code",
      "metadata": {
        "id": "q-zaRQTYA-9_"
      },
      "source": [
        "from sklearn.preprocessing import LabelEncoder\n",
        "data_train[\"duration\"] = LabelEncoder().fit_transform(data_train[\"duration\"])\n",
        "data_train[\"vidid\"] = LabelEncoder().fit_transform(data_train[\"vidid\"])\n",
        "data_train[\"published\"] = LabelEncoder().fit_transform(data_train[\"published\"])\n",
        "data_train.head()"
      ],
      "execution_count": null,
      "outputs": []
    },
    {
      "cell_type": "markdown",
      "metadata": {
        "id": "8STXaG-oU6rg"
      },
      "source": [
        "Convert time in seconds for duration"
      ]
    },
    {
      "cell_type": "code",
      "metadata": {
        "id": "F5QKmeIgTmys"
      },
      "source": [
        "import time\n",
        "import datetime"
      ],
      "execution_count": null,
      "outputs": []
    },
    {
      "cell_type": "code",
      "metadata": {
        "id": "42_FtZAeVO0I"
      },
      "source": [
        "def duration_in_sec(x):\n",
        "    y = x[2:]\n",
        "    h = ''\n",
        "    m = ''\n",
        "    s = ''\n",
        "    mm = ''\n",
        "    P = ['H','M','S']\n",
        "    for i in y:\n",
        "        if i not in P:\n",
        "            mm += i\n",
        "        else:\n",
        "            if(i == 'H'):\n",
        "                h = mm;\n",
        "                mm = ''\n",
        "            elif(i == 'M'):\n",
        "                m = mm;\n",
        "                mm = ''\n",
        "            else:\n",
        "                s = mm\n",
        "                mm = ''\n",
        "    if(h == ''):\n",
        "        h = '00'\n",
        "    if(m == ''):\n",
        "        m = '00'\n",
        "    if(s == ''):\n",
        "        s = '00'\n",
        "    bp = h + ':' + m + ':' + s\n",
        "    return bp\n",
        "train=pd.read_csv(\"train.csv\")\n",
        "mp = pd.read_csv(\"train.csv\")[\"duration\"]\n",
        "time = mp.apply(duration_in_sec)"
      ],
      "execution_count": null,
      "outputs": []
    },
    {
      "cell_type": "code",
      "metadata": {
        "id": "ihVTzq3AZIuG"
      },
      "source": [
        "def func_sec(time_string):\n",
        "    h, m, s = time_string.split(':')\n",
        "    return int(h) * 3600 + int(m) * 60 + int(s)\n",
        "\n",
        "time1=time.apply(func_sec)\n",
        "\n",
        "data_train[\"duration\"]=time1\n",
        "data_train.head()    "
      ],
      "execution_count": null,
      "outputs": []
    },
    {
      "cell_type": "markdown",
      "metadata": {
        "id": "-oqwPb5OwBEq"
      },
      "source": [
        "Visualization"
      ]
    },
    {
      "cell_type": "markdown",
      "metadata": {
        "id": "FeMCr1E2wKD5"
      },
      "source": [
        "Individual Plots"
      ]
    },
    {
      "cell_type": "code",
      "metadata": {
        "id": "D-yYcoyUb0u0"
      },
      "source": [
        "plt.hist(data_train[\"category\"])\n",
        "plt.show()\n",
        "plt.plot(data_train[\"adview\"])\n",
        "plt.show()"
      ],
      "execution_count": null,
      "outputs": []
    },
    {
      "cell_type": "markdown",
      "metadata": {
        "id": "JMZNRXXkwTR-"
      },
      "source": [
        "Remove videos with adview greater than 2000000 as outlier"
      ]
    },
    {
      "cell_type": "code",
      "metadata": {
        "id": "RviqSi49v7Bg"
      },
      "source": [
        "data_train = data_train[data_train[\"adview\"] <2000000]"
      ],
      "execution_count": null,
      "outputs": []
    },
    {
      "cell_type": "markdown",
      "metadata": {
        "id": "n_Xb1rltwZma"
      },
      "source": [
        "Heatmap"
      ]
    },
    {
      "cell_type": "code",
      "metadata": {
        "id": "AWX1VbAxv03x"
      },
      "source": [
        "import seaborn as sns\n",
        "f, ax = plt.subplots(figsize=(10, 8))\n",
        "corr = data_train.corr()\n",
        "sns.heatmap(corr, mask=np.zeros_like(corr, dtype=np.bool), cmap=sns.diverging_palette(220, 10, as_cmap=True),\n",
        "square=True, ax=ax,annot=True)\n",
        "plt.show()\n"
      ],
      "execution_count": null,
      "outputs": []
    },
    {
      "cell_type": "markdown",
      "metadata": {
        "id": "Z8tG6SkdzbK6"
      },
      "source": [
        "Split Data into train and test"
      ]
    },
    {
      "cell_type": "code",
      "metadata": {
        "id": "gs8StEQPzRYu"
      },
      "source": [
        "Y_train = pd.DataFrame(data = data_train.iloc[:, 1].values, columns = ['target'])\n",
        "data_train=data_train.drop([\"adview\"],axis=1)\n",
        "data_train=data_train.drop([\"vidid\"],axis=1)\n",
        "data_train.head()"
      ],
      "execution_count": null,
      "outputs": []
    },
    {
      "cell_type": "code",
      "metadata": {
        "id": "qA_3Ynh51Ymc"
      },
      "source": [
        "from sklearn.model_selection import train_test_split\n",
        "X_train, X_test, y_train, y_test = train_test_split(data_train, Y_train, test_size=0.2, random_state=42)\n",
        "X_train.shape"
      ],
      "execution_count": null,
      "outputs": []
    },
    {
      "cell_type": "markdown",
      "metadata": {
        "id": "EWDVr9SjzuEp"
      },
      "source": [
        "Normalise Data"
      ]
    },
    {
      "cell_type": "code",
      "metadata": {
        "id": "AeCe3zn_zVW3"
      },
      "source": [
        "from sklearn.preprocessing import MinMaxScaler\n",
        "scaler = MinMaxScaler()\n",
        "X_train=scaler.fit_transform(X_train)\n",
        "X_test=scaler.fit_transform(X_test)\n",
        "X_train.mean()"
      ],
      "execution_count": null,
      "outputs": []
    },
    {
      "cell_type": "markdown",
      "metadata": {
        "id": "TDFU-zBx0iPm"
      },
      "source": [
        "Evaluation Metrics"
      ]
    },
    {
      "cell_type": "code",
      "metadata": {
        "id": "i9l6le1s0M57"
      },
      "source": [
        "from sklearn import metrics\n",
        "def print_error(X_test, y_test, model_name):\n",
        "    prediction = model_name.predict(X_test)\n",
        "    print('Mean Absolute Error:', metrics.mean_absolute_error(y_test, prediction))\n",
        "    print('Mean Squared Error:', metrics.mean_squared_error(y_test, prediction))\n",
        "    print('Root Mean Squared Error:', np.sqrt(metrics.mean_squared_error(y_test, prediction)))"
      ],
      "execution_count": null,
      "outputs": []
    },
    {
      "cell_type": "markdown",
      "metadata": {
        "id": "Q5VNawfp0o4J"
      },
      "source": [
        "Linear Regression\n"
      ]
    },
    {
      "cell_type": "code",
      "metadata": {
        "id": "7_lDj0OL0Wq4"
      },
      "source": [
        "from sklearn import linear_model\n",
        "linear_regression = linear_model.LinearRegression()\n",
        "linear_regression.fit(X_train, y_train)\n",
        "print_error(X_test,y_test, linear_regression)"
      ],
      "execution_count": null,
      "outputs": []
    },
    {
      "cell_type": "markdown",
      "metadata": {
        "id": "H79RnY2_0svX"
      },
      "source": [
        "Support Vector Regressor\n"
      ]
    },
    {
      "cell_type": "code",
      "metadata": {
        "id": "x1592eIj0Sih"
      },
      "source": [
        "from sklearn.svm import SVR\n",
        "supportvector_regressor = SVR()\n",
        "supportvector_regressor.fit(X_train,y_train)\n",
        "print_error(X_test,y_test, supportvector_regressor)"
      ],
      "execution_count": null,
      "outputs": []
    },
    {
      "cell_type": "markdown",
      "metadata": {
        "id": "QRupr3kj2ScL"
      },
      "source": [
        "Decision Tree Regressor\n"
      ]
    },
    {
      "cell_type": "code",
      "metadata": {
        "id": "AFMidwB42GHm"
      },
      "source": [
        "from sklearn.tree import DecisionTreeRegressor\n",
        "decision_tree = DecisionTreeRegressor()\n",
        "decision_tree.fit(X_train, y_train)\n",
        "print_error(X_test,y_test, decision_tree)"
      ],
      "execution_count": null,
      "outputs": []
    },
    {
      "cell_type": "markdown",
      "metadata": {
        "id": "OMWzFLor2a5E"
      },
      "source": [
        "Random Forest Regressor"
      ]
    },
    {
      "cell_type": "code",
      "metadata": {
        "id": "H6DgDJap2OvU"
      },
      "source": [
        "from sklearn.ensemble import RandomForestRegressor\n",
        "n_estimators = 200\n",
        "max_depth = 25\n",
        "min_samples_split=15\n",
        "min_samples_leaf=2\n",
        "random_forest = RandomForestRegressor(n_estimators = n_estimators, max_depth = max_depth, min_samples_split=min_samples_split, min_samples_leaf=min_samples_leaf)\n",
        "random_forest.fit(X_train,y_train)\n",
        "print_error(X_test,y_test, random_forest)"
      ],
      "execution_count": null,
      "outputs": []
    },
    {
      "cell_type": "markdown",
      "metadata": {
        "id": "2GrlqV5h4EZc"
      },
      "source": [
        "Artificial Neural Network\n"
      ]
    },
    {
      "cell_type": "code",
      "metadata": {
        "id": "mGexEj-T31PI"
      },
      "source": [
        "import keras\n",
        "from keras.layers import Dense\n",
        "ann = keras.models.Sequential([Dense(6, activation=\"relu\", input_shape=X_train.shape[1:]), Dense(6,activation=\"relu\"), Dense(1)])\n",
        "optimizer=keras.optimizers.Adam()\n",
        "loss=keras.losses.mean_squared_error\n",
        "ann.compile(optimizer=optimizer,loss=loss,metrics=[\"mean_squared_error\"])\n",
        "history=ann.fit(X_train,y_train,epochs=100)\n",
        "ann.summary()\n",
        "print_error(X_test,y_test,ann)"
      ],
      "execution_count": null,
      "outputs": []
    },
    {
      "cell_type": "markdown",
      "metadata": {
        "id": "6q3ZFtnK4tfZ"
      },
      "source": [
        "Saving Best Scikitlearn model\n"
      ]
    },
    {
      "cell_type": "code",
      "metadata": {
        "id": "ry4y1ap24j-2"
      },
      "source": [
        "import joblib\n",
        "joblib.dump(supportvector_regressor, \"supportvectorregressor_youtubeadview.pkl\")"
      ],
      "execution_count": null,
      "outputs": []
    },
    {
      "cell_type": "markdown",
      "metadata": {
        "id": "OSNIpxh544my"
      },
      "source": [
        "Saving Keras Artificial Neural Network model\n"
      ]
    },
    {
      "cell_type": "code",
      "metadata": {
        "id": "ZkSKGphf46Wu"
      },
      "source": [
        "ann.save(\"ann_youtubeadview.h5\")"
      ],
      "execution_count": null,
      "outputs": []
    },
    {
      "cell_type": "markdown",
      "metadata": {
        "id": "bUcaKEn1ZwOY"
      },
      "source": [
        "# Testing"
      ]
    },
    {
      "cell_type": "code",
      "metadata": {
        "id": "ol05akl7Z8Yh"
      },
      "source": [
        "data_test = pd.read_csv(\"test.csv\")\n",
        "data_test.head()"
      ],
      "execution_count": null,
      "outputs": []
    },
    {
      "cell_type": "code",
      "metadata": {
        "id": "_De7vaR4aaTv"
      },
      "source": [
        "data_test.shape"
      ],
      "execution_count": null,
      "outputs": []
    },
    {
      "cell_type": "code",
      "metadata": {
        "id": "GqEBWlK80rZd"
      },
      "source": [
        "model = joblib.load(\"/content/supportvectorregressor_youtubeadview.pkl\")"
      ],
      "execution_count": null,
      "outputs": []
    },
    {
      "cell_type": "code",
      "metadata": {
        "id": "jhxLOp05agvr"
      },
      "source": [
        "category = {'A': 1,'B': 2,'C': 3,'D': 4,'E': 5,'F': 6,'G': 7,'H': 8}\n",
        "data_test[\"category\"] = data_test[\"category\"].map(category)\n",
        "data_test.head()"
      ],
      "execution_count": null,
      "outputs": []
    },
    {
      "cell_type": "code",
      "metadata": {
        "id": "rf20Ktyba-Us"
      },
      "source": [
        "data_test = data_test[data_test.views!='F']\n",
        "data_test = data_test[data_test.likes!='F']\n",
        "data_test = data_test[data_test.dislikes!='F']\n",
        "data_test = data_test[data_test.comment!='F']\n",
        "data_test.head()"
      ],
      "execution_count": null,
      "outputs": []
    },
    {
      "cell_type": "code",
      "metadata": {
        "id": "adqq14cTbqHL"
      },
      "source": [
        "data_test.shape"
      ],
      "execution_count": null,
      "outputs": []
    },
    {
      "cell_type": "code",
      "metadata": {
        "id": "NpCIqLbdb_0I"
      },
      "source": [
        "data_test[\"views\"] = pd.to_numeric(data_test[\"views\"])\n",
        "data_test[\"likes\"] = pd.to_numeric(data_test[\"likes\"])\n",
        "data_test[\"dislikes\"] = pd.to_numeric(data_test[\"dislikes\"])\n",
        "data_test[\"comment\"] = pd.to_numeric(data_test[\"comment\"])\n",
        "data_test.head()"
      ],
      "execution_count": null,
      "outputs": []
    },
    {
      "cell_type": "code",
      "metadata": {
        "id": "hQt1tZAvdCp-"
      },
      "source": [
        "c_vidid = data_test[\"vidid\"]"
      ],
      "execution_count": null,
      "outputs": []
    },
    {
      "cell_type": "code",
      "metadata": {
        "id": "ERA0_3jfdDIJ"
      },
      "source": [
        "from sklearn.preprocessing import LabelEncoder\n",
        "data_test[\"duration\"] = LabelEncoder().fit_transform(data_test[\"duration\"])\n",
        "data_test[\"vidid\"] = LabelEncoder().fit_transform(data_test[\"vidid\"])\n",
        "data_test[\"published\"] = LabelEncoder().fit_transform(data_test[\"published\"])\n",
        "data_test.head()"
      ],
      "execution_count": null,
      "outputs": []
    },
    {
      "cell_type": "code",
      "metadata": {
        "id": "zPoH-LvGh12J"
      },
      "source": [
        "test=pd.read_csv(\"test.csv\")\n",
        "mp = pd.read_csv(\"test.csv\")[\"duration\"]\n",
        "t = mp.apply(duration_in_sec)"
      ],
      "execution_count": null,
      "outputs": []
    },
    {
      "cell_type": "code",
      "metadata": {
        "id": "hyRBpWyhiLlC"
      },
      "source": [
        "t1=t.apply(func_sec)\n",
        "\n",
        "data_test[\"duration\"]=t1\n",
        "data_test.head()"
      ],
      "execution_count": null,
      "outputs": []
    },
    {
      "cell_type": "code",
      "metadata": {
        "id": "4OMgPmkTyBSQ"
      },
      "source": [
        "data_test = data_test.drop([\"vidid\"],axis=1)\n",
        "data_test.head()"
      ],
      "execution_count": null,
      "outputs": []
    },
    {
      "cell_type": "code",
      "metadata": {
        "id": "EXwhbQnIyVOL"
      },
      "source": [
        "scaler1 = MinMaxScaler()\n",
        "x_test = data_test\n",
        "x_test = scaler1.fit_transform(x_test)"
      ],
      "execution_count": null,
      "outputs": []
    },
    {
      "cell_type": "code",
      "metadata": {
        "id": "KU56udkjy0AK"
      },
      "source": [
        "Prediction = model.predict(x_test)"
      ],
      "execution_count": null,
      "outputs": []
    },
    {
      "cell_type": "code",
      "metadata": {
        "id": "i5dIVYSanhFT"
      },
      "source": [
        "Prediction = pd.DataFrame(Prediction)\n",
        "Prediction.info()"
      ],
      "execution_count": null,
      "outputs": []
    },
    {
      "cell_type": "code",
      "metadata": {
        "id": "g8M6kBcDnxzs"
      },
      "source": [
        "Prediction = Prediction.rename(columns={0:\"Adview\"})\n",
        "Prediction.head()"
      ],
      "execution_count": null,
      "outputs": []
    },
    {
      "cell_type": "code",
      "metadata": {
        "id": "bElyiOjuozRK"
      },
      "source": [
        "Prediction.to_csv(\"PredictedAdview.csv\")"
      ],
      "execution_count": null,
      "outputs": []
    }
  ]
}